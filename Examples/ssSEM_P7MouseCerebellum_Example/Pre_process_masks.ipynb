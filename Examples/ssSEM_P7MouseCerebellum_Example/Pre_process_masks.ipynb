{
  "cells": [
    {
      "cell_type": "markdown",
      "metadata": {
        "id": "M036zE_ZKI4A"
      },
      "source": [
        "### This notebook can be used to edit the mask (or ground truth segmentation) image stacks.\n",
        "\n",
        "Example: In case of axon segmentation, the masks needed to be eroded. Also, the masks of membranes were created which may be used as an alternative way to train the CNN to detech membranes instead of axon bodies (or cytoplasm).\n"
      ]
    },
    {
      "cell_type": "markdown",
      "metadata": {
        "id": "GHunUzEX4mT2",
        "pycharm": {
          "name": "#%% md\n"
        }
      },
      "source": [
        "# **0. Getting started with this notebook**\n",
        "---\n",
        "This notebook contains two types of cell: text and code.\n",
        "\n",
        "*   **Text** cells are formatted using a simple markup language called Markdown. They can be created by clickin on  ``` + text ``` \n",
        "*   **Code** cells contain either explanatory text or executable code and its output. They can be created by clickin on  ``` + code ```  \n",
        "\n",
        "To execute or run the **Code** cell, click on the play button on the left side of the cell.<br>\n",
        "Double clicking on any cell will toggle the edit and display modes.\n",
        "\n",
        "For more information about these type of cells you can click [here](https://colab.research.google.com/notebooks/basic_features_overview.ipynb). "
      ]
    },
    {
      "cell_type": "markdown",
      "metadata": {
        "id": "mojVk8gg4t4z",
        "pycharm": {
          "name": "#%% md\n"
        }
      },
      "source": [
        "# **1. Getting Set Up**\n",
        "---"
      ]
    },
    {
      "cell_type": "code",
      "execution_count": null,
      "metadata": {
        "cellView": "form",
        "id": "BWFdWEQf9WPi"
      },
      "outputs": [],
      "source": [
        "#@markdown ## Mount the Google drive\n",
        "#@markdown Once mounted, your files can be browsed on the left hand side panel.\n",
        "\n",
        "from google.colab import drive\n",
        "drive.mount('/content/drive')"
      ]
    },
    {
      "cell_type": "code",
      "execution_count": null,
      "metadata": {
        "cellView": "form",
        "id": "XOHwiUVM782x"
      },
      "outputs": [],
      "source": [
        "#@markdown ##Set up the IPython notebook\n",
        "\n",
        "from IPython.display import HTML\n",
        "import random\n",
        "\n",
        "def hide_toggle(for_next=False):\n",
        "    this_cell = \"\"\"$('div.cell.code_cell.rendered.selected')\"\"\"\n",
        "    next_cell = this_cell + '.next()'\n",
        "\n",
        "    toggle_text = 'Show/Hide code'  # text shown on toggle link\n",
        "    target_cell = this_cell  # target cell to control with toggle\n",
        "    js_hide_current = ''  # bit of JS to permanently hide code in current cell (only when toggling next cell)\n",
        "\n",
        "    if for_next:\n",
        "        target_cell = next_cell\n",
        "        toggle_text += ' next cell'\n",
        "        js_hide_current = this_cell + '.find(\"div.input\").hide();'\n",
        "\n",
        "    js_f_name = 'code_toggle_{}'.format(str(random.randint(1,2**64)))\n",
        "\n",
        "    html = \"\"\"\n",
        "        <script>\n",
        "            function {f_name}() {{\n",
        "                {cell_selector}.find('div.input').toggle();\n",
        "            }}\n",
        "\n",
        "            {js_hide_current}\n",
        "        </script>\n",
        "\n",
        "        <a href=\"javascript:{f_name}()\">{toggle_text}</a>\n",
        "    \"\"\".format(\n",
        "        f_name=js_f_name,\n",
        "        cell_selector=target_cell,\n",
        "        js_hide_current=js_hide_current, \n",
        "        toggle_text=toggle_text\n",
        "    )\n",
        "\n",
        "    return HTML(html)\n",
        "hide_toggle()"
      ]
    },
    {
      "cell_type": "code",
      "execution_count": null,
      "metadata": {
        "cellView": "form",
        "id": "koqz6p7bQNVa",
        "pycharm": {
          "name": "#%%\n"
        }
      },
      "outputs": [],
      "source": [
        "#@markdown ##Import packages\n",
        "\n",
        "import os\n",
        "import numpy as np\n",
        "import cv2\n",
        "import matplotlib.pyplot as plt\n",
        "import wget\n",
        "\n",
        "# Installing \n",
        "!zenodo_get '10.5281/zenodo.7635510' -w 'urls.txt'\n",
        "!pip install  patool\n",
        "\n",
        "hide_toggle()"
      ]
    },
    {
      "cell_type": "code",
      "source": [
        "#@markdown ## Download dataset\n",
        "PATHFILE = \"/content/drive/MyDrive/chiaraZurzoloLab/CellWalker_iPythonNotebooks/for_CellWalker_paper/Flavia_axon_segmentation/parallel_fiber_segmentation\"\n",
        "PATHTODIRECTORY = \"/content/drive/MyDrive/chiaraZurzoloLab/CellWalker_iPythonNotebooks/for_CellWalker_paper/Flavia_axon_segmentation/\"\n",
        "data_path = 'urls.txt'\n",
        "with open(data_path, 'r') as f:\n",
        "    URL = f.readline()\n",
        "\n",
        "print('Downloading data from:')\n",
        "print(URL)\n",
        "\n",
        "# Download and unzipping\n",
        "!wget -O \"$PATHFILE\" \"$URL\"\n",
        "!unzip \"$PATHFILE\" -d \"$PATHTODIRECTORY\""
      ],
      "metadata": {
        "cellView": "form",
        "id": "LsWMPD4BsAl5"
      },
      "execution_count": null,
      "outputs": []
    },
    {
      "cell_type": "markdown",
      "metadata": {
        "id": "mr5PmaCvPJtp",
        "pycharm": {
          "name": "#%% md\n"
        }
      },
      "source": [
        "# **2. Input image/mask directories**\n",
        "---"
      ]
    },
    {
      "cell_type": "markdown",
      "metadata": {
        "id": "izj_PdGU7820"
      },
      "source": [
        "### Set path to training images\n",
        "A set of training images along with corresponding segmentation masks are used to train the model to determine segmentation masks for new images. Both images_dir and masks_dir should contain same number of corresponding images.\n"
      ]
    },
    {
      "cell_type": "code",
      "execution_count": null,
      "metadata": {
        "cellView": "form",
        "id": "iTYCOsKE7820"
      },
      "outputs": [],
      "source": [
        "# ------------- Initial user input ------------\n",
        "images_dir = \"/content/drive/MyDrive/chiaraZurzoloLab/CellWalker_iPythonNotebooks/for_CellWalker_paper/Flavia_axon_segmentation/em_test\" #@param {type:\"string\"}\n",
        "masks_dir = \"/content/drive/MyDrive/chiaraZurzoloLab/CellWalker_iPythonNotebooks/for_CellWalker_paper/Flavia_axon_segmentation/seg_test\"#@param {type:\"string\"}\n",
        "hide_toggle()"
      ]
    },
    {
      "cell_type": "code",
      "execution_count": null,
      "metadata": {
        "cellView": "form",
        "id": "vkqSx_PfRnDc",
        "pycharm": {
          "name": "#%%\n"
        }
      },
      "outputs": [],
      "source": [
        "#@markdown Create sorted file lists from the input image and mask folders<br>\n",
        "\n",
        "images_filelist = sorted(os.listdir(images_dir))\n",
        "masks_filelist = sorted(os.listdir(masks_dir))\n",
        "\n",
        "print(\"Number of images:\", len(images_filelist))\n",
        "print(\"Number of masks:\", len(masks_filelist))\n",
        "\n",
        "assert(len(images_filelist) == len(masks_filelist))\n",
        "\n",
        "hide_toggle()"
      ]
    },
    {
      "cell_type": "markdown",
      "metadata": {
        "id": "FyhGU6nzU-aa"
      },
      "source": [
        "Get eroded mask of cells"
      ]
    },
    {
      "cell_type": "code",
      "execution_count": null,
      "metadata": {
        "id": "M-W0QZInRpLT"
      },
      "outputs": [],
      "source": [
        "def get_eroded_mask(filename):\n",
        "  # Read mask image\n",
        "  mask = cv2.imread(filename)[:,:,0] # Assuming that the image has multiple channels\n",
        "  \n",
        "  # Get edges\n",
        "  edges = cv2.Canny(mask, 0, 1)\n",
        "\n",
        "  # Dilate edges\n",
        "  kernel = np.ones((3, 3), np.uint8)\n",
        "  edges = cv2.dilate(edges, kernel, iterations=1)\n",
        "\n",
        "  # Convert edges to 1,0 array\n",
        "  edges = edges/255\n",
        "  #print(np.unique(edges))\n",
        "\n",
        "  # Get eroded mask\n",
        "  mask2 = mask*(1-edges)\n",
        "\n",
        "  return(mask2)"
      ]
    },
    {
      "cell_type": "code",
      "execution_count": null,
      "metadata": {
        "id": "RjkH48_tRpEq"
      },
      "outputs": [],
      "source": [
        "output_dir = \"/content/drive/MyDrive/chiaraZurzoloLab/CellWalker_iPythonNotebooks/for_CellWalker_paper/Flavia_axon_segmentation/seg_test_eroded\"\n",
        "\n",
        "for fname in masks_filelist:\n",
        "  #print(fname)\n",
        "  mask2 = get_eroded_mask(masks_dir + \"/\" + fname)\n",
        "  #plt.imshow(mask2)\n",
        "  cv2.imwrite(output_dir + \"/\" + fname, mask2)"
      ]
    },
    {
      "cell_type": "markdown",
      "metadata": {
        "id": "sy59wxgdU7Vp"
      },
      "source": [
        "Get membrane mask"
      ]
    },
    {
      "cell_type": "code",
      "execution_count": null,
      "metadata": {
        "id": "NUjt9pODRo85"
      },
      "outputs": [],
      "source": [
        "def get_membrane_mask(filename):\n",
        "  # Read mask image\n",
        "  mask = cv2.imread(filename)[:,:,0] # Assuming that the image has multiple channels\n",
        "  \n",
        "  # Get edges\n",
        "  edges = cv2.Canny(mask, 0, 1)\n",
        "\n",
        "  # Dilate edges\n",
        "  kernel = np.ones((3, 3), np.uint8)\n",
        "  edges = cv2.dilate(edges, kernel, iterations=1)\n",
        "\n",
        "  # Convert edges to 1,0 array\n",
        "  edges = edges/255\n",
        "  #print(np.unique(edges))\n",
        "\n",
        "  # Get eroded mask\n",
        "  mask2 = mask*(1-edges)\n",
        "\n",
        "  mask2_membrane = mask2 == 0\n",
        "\n",
        "  return(mask2_membrane*255)"
      ]
    },
    {
      "cell_type": "code",
      "execution_count": null,
      "metadata": {
        "id": "5pLtQjVxVDAa"
      },
      "outputs": [],
      "source": [
        "output_dir = \"/content/drive/MyDrive/chiaraZurzoloLab/CellWalker_iPythonNotebooks/for_CellWalker_paper/Flavia_axon_segmentation/seg_test_membrane\"\n",
        "\n",
        "for fname in masks_filelist:\n",
        "  #print(fname)\n",
        "  mask2_membrane = get_membrane_mask(masks_dir + \"/\" + fname)\n",
        "  #plt.imshow(mask2_membrane)\n",
        "  cv2.imwrite(output_dir + \"/\" + fname, mask2_membrane)"
      ]
    }
  ],
  "metadata": {
    "accelerator": "GPU",
    "colab": {
      "private_outputs": true,
      "provenance": []
    },
    "gpuClass": "standard",
    "kernelspec": {
      "display_name": "Python 3",
      "language": "python",
      "name": "python3"
    },
    "language_info": {
      "codemirror_mode": {
        "name": "ipython",
        "version": 3
      },
      "file_extension": ".py",
      "mimetype": "text/x-python",
      "name": "python",
      "nbconvert_exporter": "python",
      "pygments_lexer": "ipython3",
      "version": "3.8.12"
    }
  },
  "nbformat": 4,
  "nbformat_minor": 0
}