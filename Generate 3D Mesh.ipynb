{
 "cells": [
  {
   "cell_type": "code",
   "execution_count": 5,
   "metadata": {},
   "outputs": [
    {
     "data": {
      "text/plain": [
       "(842, 3)"
      ]
     },
     "execution_count": 5,
     "metadata": {},
     "output_type": "execute_result"
    }
   ],
   "source": [
    "import pyvista as pv\n",
    "sphere = pv.Sphere()\n",
    "sphere = sphere.compute_normals(cell_normals=False)\n",
    "normals = sphere['Normals']\n",
    "normals.shape\n"
   ]
  },
  {
   "cell_type": "code",
   "execution_count": 6,
   "metadata": {},
   "outputs": [
    {
     "data": {
      "text/html": [
       "<table><tr><th>Header</th><th>Data Arrays</th></tr><tr><td>\n",
       "<table>\n",
       "<tr><th>PolyData</th><th>Information</th></tr>\n",
       "<tr><td>N Cells</td><td>1680</td></tr>\n",
       "<tr><td>N Points</td><td>842</td></tr>\n",
       "<tr><td>X Bounds</td><td>-4.993e-01, 4.993e-01</td></tr>\n",
       "<tr><td>Y Bounds</td><td>-4.965e-01, 4.965e-01</td></tr>\n",
       "<tr><td>Z Bounds</td><td>-5.000e-01, 5.000e-01</td></tr>\n",
       "<tr><td>N Arrays</td><td>1</td></tr>\n",
       "</table>\n",
       "\n",
       "</td><td>\n",
       "<table>\n",
       "<tr><th>Name</th><th>Field</th><th>Type</th><th>N Comp</th><th>Min</th><th>Max</th></tr>\n",
       "<tr><td>Normals</td><td>Points</td><td>float32</td><td>3</td><td>-1.000e+00</td><td>1.000e+00</td></tr>\n",
       "</table>\n",
       "\n",
       "</td></tr> </table>"
      ],
      "text/plain": [
       "PolyData (0x1b6f7512ee0)\n",
       "  N Cells:\t1680\n",
       "  N Points:\t842\n",
       "  X Bounds:\t-4.993e-01, 4.993e-01\n",
       "  Y Bounds:\t-4.965e-01, 4.965e-01\n",
       "  Z Bounds:\t-5.000e-01, 5.000e-01\n",
       "  N Arrays:\t1"
      ]
     },
     "execution_count": 6,
     "metadata": {},
     "output_type": "execute_result"
    }
   ],
   "source": [
    "sphere"
   ]
  },
  {
   "cell_type": "code",
   "execution_count": null,
   "metadata": {},
   "outputs": [],
   "source": [
    "%% calculating normal vectors\n",
    "T = delaunay(x,y); % triangulation connectivity matrix\n",
    "TR = triangulation(T,x,y,z); % the triangulation connectivity\n",
    "V = vertexNormal(TR); % normal vectors at triangle vertices"
   ]
  }
 ],
 "metadata": {
  "kernelspec": {
   "display_name": "Python 3",
   "language": "python",
   "name": "python3"
  },
  "language_info": {
   "codemirror_mode": {
    "name": "ipython",
    "version": 3
   },
   "file_extension": ".py",
   "mimetype": "text/x-python",
   "name": "python",
   "nbconvert_exporter": "python",
   "pygments_lexer": "ipython3",
   "version": "3.8.5"
  }
 },
 "nbformat": 4,
 "nbformat_minor": 4
}
