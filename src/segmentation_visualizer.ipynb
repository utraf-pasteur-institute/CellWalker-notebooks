{
 "cells": [
  {
   "cell_type": "markdown",
   "id": "6b9d8c47",
   "metadata": {},
   "source": [
    "### Segmentation Visualizer\n",
    "#### This notebook allows visualization of 3D segmentation masks as image stacks.\n",
    "#### Image stacks of raw data i.e. EM or Confocal microscopy images could also be provided and visualized alongside the segmentation masks.<br><br>\n",
    "Note: This notebook imports two custom modules- segviewer and skeletontools. These are provided in the repository as .py files. Please make sure to place them in the same folder before using this notebook.<br>\n",
    "### Credits and References\n",
    "The stackview package is developed by Robert Haase (https://github.com/haesleinhuepf/stackview) and is provided under BSD 3-clause license (https://github.com/haesleinhuepf/stackview/blob/main/LICENSE).<br><br>\n",
    "Skeletonization using Kimimaro algorithm- \n",
    "Silversmith, W., Bae, J. A., Li, P. H., & A.M. Wilson. Kimimaro: Skeletonize densely labeled 3D image segmentations. (2021)."
   ]
  },
  {
   "cell_type": "markdown",
   "id": "bf9cf4f3",
   "metadata": {},
   "source": [
    "### Import modules\n",
    "If these modules are not installed on your computer or in the online kernel instance, then please install them using command- 'pip install module_name'.<br>\n",
    "Replace module_name with the required module name."
   ]
  },
  {
   "cell_type": "code",
   "execution_count": null,
   "id": "3ab87abd",
   "metadata": {},
   "outputs": [],
   "source": [
    "%matplotlib notebook\n",
    "import os\n",
    "import re\n",
    "import cv2\n",
    "import random\n",
    "import copy\n",
    "import numpy as np\n",
    "\n",
    "import stackview\n",
    "\n",
    "import kimimaro\n",
    "import cloudvolume\n",
    "\n",
    "from tkinter import Tk, filedialog\n",
    "from matplotlib import pyplot as plt\n",
    "from matplotlib import cm\n",
    "from mpl_toolkits.mplot3d import Axes3D\n",
    "\n",
    "import ipywidgets as widgets\n",
    "from ipywidgets import interact, interact_manual\n",
    "from IPython.display import display, clear_output\n",
    "\n",
    "import segviewer\n",
    "import skeletontools"
   ]
  },
  {
   "cell_type": "markdown",
   "id": "faa7bbdb",
   "metadata": {},
   "source": [
    "### Create and display image stack viewer\n",
    "Example paths refer to the sample data provided in the repository.<br>\n",
    "Please click on the folder icon next to the text boxes to select the desired folders.<br>\n",
    "<ul>\n",
    "    <li>The 'Non-segmented images' folder is expected to contain the sequential original non-segmented images in png format. This image stack is optional.</li>\n",
    "    <li>The 'Segmented images' folder is expected to contain the sequential segmented images in png format corresponding to the non-segmented images.</li>\n",
    "</ul>"
   ]
  },
  {
   "cell_type": "code",
   "execution_count": null,
   "id": "37f4a0b5",
   "metadata": {
    "scrolled": false
   },
   "outputs": [],
   "source": [
    "seg_viewer = segviewer.Seg_viewer()\n",
    "display(seg_viewer.viewer)"
   ]
  },
  {
   "cell_type": "markdown",
   "id": "64bc76fc",
   "metadata": {},
   "source": [
    "### Skeletonization"
   ]
  },
  {
   "cell_type": "markdown",
   "id": "9cc14f89",
   "metadata": {},
   "source": [
    "Note that skeletonization is provided as an optional functionality here.<br>\n",
    "Skeketonization in the CellWalker's Blender addon is recommended. Please see https://github.com/utraf-pasteur-institute/Cellwalker-blender"
   ]
  },
  {
   "cell_type": "code",
   "execution_count": null,
   "id": "a9c8aeae",
   "metadata": {},
   "outputs": [],
   "source": [
    "skeletontools.draw_skeleton(seg_viewer.get_skel(label=255, downsample=10),{})"
   ]
  },
  {
   "cell_type": "markdown",
   "id": "ea4e56c0",
   "metadata": {},
   "source": [
    "**-- END --**"
   ]
  }
 ],
 "metadata": {
  "kernelspec": {
   "display_name": "cellwalker-ipynb",
   "language": "python",
   "name": "cellwalker-ipynb"
  },
  "language_info": {
   "codemirror_mode": {
    "name": "ipython",
    "version": 3
   },
   "file_extension": ".py",
   "mimetype": "text/x-python",
   "name": "python",
   "nbconvert_exporter": "python",
   "pygments_lexer": "ipython3",
   "version": "3.8.12"
  }
 },
 "nbformat": 4,
 "nbformat_minor": 5
}
